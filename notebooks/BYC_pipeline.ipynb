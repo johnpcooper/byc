{
 "cells": [
  {
   "attachments": {},
   "cell_type": "markdown",
   "metadata": {},
   "source": [
    "# Time lapse imaging analysis with `byc`"
   ]
  },
  {
   "attachments": {},
   "cell_type": "markdown",
   "metadata": {},
   "source": [
    "## Set up your environment"
   ]
  },
  {
   "attachments": {},
   "cell_type": "markdown",
   "metadata": {},
   "source": [
    "### Install  [`byc`](https://github.com/johnpcooper/byc) and [`imagejpc`](https://github.com/johnpcooper/imagejpc) libraries"
   ]
  },
  {
   "attachments": {},
   "cell_type": "markdown",
   "metadata": {},
   "source": [
    "#### Install and configure `byc`"
   ]
  },
  {
   "attachments": {},
   "cell_type": "markdown",
   "metadata": {},
   "source": [
    "1. Clone `byc` from repo into your projects directory:\n",
    "    ```sh\n",
    "    cd c/Users/usrname/Projects\n",
    "    git clone https://github.com/johnpcooper/byc\n",
    "    ```\n",
    "1. Create a python virtual environment, install required packages, and install byc\n",
    "    ```sh\n",
    "    # Install a virtual env manager\n",
    "    pip install virtualenv\n",
    "    # Create a directory for virual environments\n",
    "    cd c/Users/usrname/Projects\n",
    "    mkdir envs\n",
    "    cd envs\n",
    "    # Create the the virtual environment for byc\n",
    "    python -m venv .byc\n",
    "    # Activate the .byc virtual environment\n",
    "    .byc/Scripts/activate\n",
    "    # Install python packages required to run byc in your\n",
    "    # .byc environment\n",
    "    cd c/Users/usrname/Projects/byc\n",
    "    # This may take a few minutes\n",
    "    pip install -r requirements_minimal.txt\n",
    "    # Add currently active .byc environment to the list\n",
    "    # of environments accessible in ipykernels ( like jupyter\n",
    "    # notebooks)\n",
    "    python -m ipykernel install --user --name=.byc\n",
    "    # Install the byc library in your currently active \n",
    "    # .byc environment using pip\n",
    "    cd c/Users/usrname/Projects/byc\n",
    "    pip install .\n",
    "    ```"
   ]
  },
  {
   "attachments": {},
   "cell_type": "markdown",
   "metadata": {},
   "source": [
    "#### Install and configure `imagejpc`"
   ]
  },
  {
   "attachments": {},
   "cell_type": "markdown",
   "metadata": {},
   "source": [
    "1. Download [fiji](https://imagej.net/software/fiji/downloads). Extract files and move `fiji.app` folder to your appdata directory (e.g. `c/Users/usrname/AppData/Local`)\n",
    "1. Clone `imagejpc` into your projects directory:\n",
    "    ```sh\n",
    "    cd c/Users/usrname/Projects/\n",
    "    git clone https://github.com/johnpcooper/imagejpc\n",
    "    ``` \n",
    "1. Edit hardcoded script location references in `macros/addCell.ijm`. Change the values that `script` and `python` are set to to reflect your local `byc` and `.byc` environment paths\n",
    "1. Copy all plugin files (`.py` and `.ijm`) from `imagejpc/utilities` and `imagejpc/macros` into the plugins folder of Fiji at `C:/Users/usrname/AppData/Local`\n",
    "1. Copy `imagejpc/macros/addCell.ijm` to your Fiji installation macros folder at `C:/Users/usrname/AppData/Local/Fiji.app/macros` (so that `IJ.runMacroFile('addCell.ijm', arg)` will be able to find it when run from a plugin)\n",
    "1. Run Fiji with the executable at `C:/Users/usrname/AppData/Local/Fiji.app/ImageJ-win64.exe`. Fiji will automatically find the files you added to its plugins folder above and install them\n"
   ]
  },
  {
   "attachments": {},
   "cell_type": "markdown",
   "metadata": {},
   "source": [
    "## Register timelapse imaging output from &micro;manager"
   ]
  },
  {
   "attachments": {},
   "cell_type": "markdown",
   "metadata": {},
   "source": [
    "1. If you don't have a dataset to analyze, an example dataset from this [box link](https://utexas.box.com/s/tzfxumwhate722d4n3x8k273p65xuh9v)\n",
    "1. Run the `byc` alignment script on raw &micro;manager output\n",
    "    ```sh\n",
    "    # activate your .byc environment\n",
    "    cd C:/users/usrname/Projects\n",
    "    envs/.byc/Scripts/activate\n",
    "    # Run the alignment script. Once run, a GUI window will ask you\n",
    "    # to choose the directory holding data. In the example dataset,\n",
    "    # this is 20230126_byc_1\n",
    "    python byc/bin/align_byc_expt.py # this will take a few minutes per xy position\n",
    "    ```\n",
    "1. The above aligned channel stacks are saved in a folder called `output`. You'll now want to copy these stacks into your data directory as detailed below before starting to annotate the data"
   ]
  },
  {
   "attachments": {},
   "cell_type": "markdown",
   "metadata": {},
   "source": [
    "## Annotate raw data with cell location and bud/cell fission events"
   ]
  },
  {
   "attachments": {},
   "cell_type": "markdown",
   "metadata": {},
   "source": [
    "### Create experiment and compartment directories and add channel stacks"
   ]
  },
  {
   "attachments": {},
   "cell_type": "markdown",
   "metadata": {},
   "source": [
    "1. If it doesn't already exist, add a byc data directory to your `byc` installation location. This is where `byc` modules look for data during annotation and following analysis steps\n",
    "    ```sh\n",
    "    mkdir C:/Users/usrname/Projects/envs/.byc/Lib/site-packages/data\n",
    "    ```\n",
    "1. Create an experiment directory in they byc data directory created above\n",
    "    ```sh\n",
    "    mkdir C:/Users/usrname/Projects/envs/.byc/Lib/site-packages/data/20230126_byc\n",
    "    # 20230126_byc is the experiment name in the example dataset\n",
    "    ```\n",
    "1. Create a compartment directory in the experiment directory created above. This will hold all channel stacks corresponding to xy positions collected in the experiment that are within a certain flow compartment of the microfluidic device. The name of the compartment directory needs to identify the strain being imaged and potentially other conditions like small molecule concentration etc.\n",
    "    ```sh\n",
    "    # This copmartment directory name includes the strain number (which is all that's required) \n",
    "    # and additional more human readable information\n",
    "    mkdir C:/Users/usrname/Projects/envs/.byc/Lib/site-packages/data/20230126_byc/20230126_byc_JPC228_UBL-YFP-Su9_BY4741\n",
    "    ```\n",
    "1. Copy the channel stacks from `output` to the compartment directory (`20230126_byc_JPC228_UBL-YFP-Su9_BY4741` in the example)\n",
    "1. You are now ready start annotating data\n"
   ]
  },
  {
   "attachments": {},
   "cell_type": "markdown",
   "metadata": {},
   "source": [
    "### Annotate cell location (crop ROIs) and budding events (bud ROIs)"
   ]
  },
  {
   "attachments": {},
   "cell_type": "markdown",
   "metadata": {},
   "source": [
    "1. Run Fiji (`C:/Users/usrname/AppData/Local/Fiji.app/ImageJ-win64.exe`)\n",
    "1. Open the xy stack you want to analyze (`20230126_byc\\20230126_byc_JPC228_UBL-YFP-Su9_BY4741\\20230126_byc_xy09_bf_stack.tif` inside the byc data directory you created above)\n",
    "1. For each cell you want to analyze:\n",
    "    1. Annotate crop ROIs, which are essentially key frames, to track the cell of interest. \n",
    "        * Draw a rectangular box with its center somewhere inside the cell at the first frame you want to segment. Press 't' to add this box selection to `RoiManager`. \n",
    "        * Scroll through the stack until you need to adjust the box selection to keep its center within the cell of interest. When needed, move the box so its center is within the cell of interest and press 't' to add the box to `RoiManager`\n",
    "        * Add another ROI like above at the last frame you want to segment\n",
    "        * Make sure that your ROIs in `RoiManager` are sorted by position (select all ROIs, right click, click 'sort')\n",
    "        * Press 'L' to focus the Fiji search bar and type 'save cell roi set` and press enter\n",
    "        * When prompted, enter ROI set type as \"crop\". Enter other annotation information as relevant\n",
    "    1. Annotate bud ROIs, which are rectangular selections marking the frame before a bud first becomes visible (for cerevisiae data) or the frame at which the vertical fission line first becomes visible (for pombe data). These frame of interest are referred to as the \"bud frame\":\n",
    "        * For each bud frame (as described above) draw a rectangular box around the area where the budding or fission event occurs. If analyzing budding yeast data, this frame will be used to annotate the shape of the daughter cell that came before the daughter appearing at the bud frame. If the previous daughter was round, press \"6\" to add the bud frame ROI to `RoiManager`. If the previous daughter was elongated, press \"7\" to add the bud frame ROI to `RoiManager`. If you're annotating fission yeast or daughter isn't relevant, simply press 't' to add an unlablled bud ROI to `RoiManager`\n",
    "        * Once you have created an ROI for each bud frame as described above, add one more frame annotating the end of our observation of the current cell. If the cell escapes or dies, create an ROI at the frame in which the cell was last seen alive/in its catch tube. If the cells is still alive in the device when the experiment ends, create an ROI at the last frame of the stack\n",
    "        * Sort the ROIs in `RoiManager`, press 'L' to focus the search bar, and enter 'save cell roi set'\n",
    "        * When prompted, enter 'bud' as ROI set type. For 'end_event_type', enter 'death' if the cell dies during data collection, enter 'escape' if the cell escaped before dying or the end of the experiment, or enter 'sen' if the cell was still alive at the end of the experiment\n"
   ]
  }
 ],
 "metadata": {
  "kernelspec": {
   "display_name": ".byc",
   "language": "python",
   "name": ".byc"
  },
  "orig_nbformat": 4
 },
 "nbformat": 4,
 "nbformat_minor": 2
}
