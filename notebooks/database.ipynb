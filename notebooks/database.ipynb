{
 "cells": [
  {
   "cell_type": "code",
   "execution_count": 35,
   "metadata": {},
   "outputs": [],
   "source": [
    "import os\n",
    "import pandas as pd"
   ]
  },
  {
   "cell_type": "markdown",
   "metadata": {},
   "source": [
    "Look for expected upstream path in a file path and replace it with '' and save it as the 'rel_path' column"
   ]
  },
  {
   "cell_type": "code",
   "execution_count": 163,
   "metadata": {},
   "outputs": [
    {
     "data": {
      "text/plain": [
       "'20191106_byc\\\\analysis\\\\20191106_byc_by4741_young_NS_data_cell_00.csv'"
      ]
     },
     "execution_count": 163,
     "metadata": {},
     "output_type": "execute_result"
    }
   ],
   "source": [
    "from byc import database, constants, utilities\n",
    "from importlib import reload\n",
    "for mod in [database, constants, utilities]:\n",
    "    reload(mod)\n",
    "tracedb = database.byc_database\n",
    "\n",
    "# Example trace_path from raw expt\n",
    "tracedf = tracedb.trace_database_df\n",
    "abspath = tracedf.trace_path.iloc[0]\n",
    "utilities.get_relpath(abspath)"
   ]
  }
 ],
 "metadata": {
  "kernelspec": {
   "display_name": ".byc",
   "language": "python",
   "name": ".byc"
  },
  "language_info": {
   "codemirror_mode": {
    "name": "ipython",
    "version": 3
   },
   "file_extension": ".py",
   "mimetype": "text/x-python",
   "name": "python",
   "nbconvert_exporter": "python",
   "pygments_lexer": "ipython3",
   "version": "3.8.3"
  }
 },
 "nbformat": 4,
 "nbformat_minor": 4
}
