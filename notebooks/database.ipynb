{
 "cells": [
  {
   "cell_type": "code",
   "execution_count": 1,
   "metadata": {},
   "outputs": [],
   "source": [
    "import os\n",
    "import re\n",
    "\n",
    "import pandas as pd"
   ]
  },
  {
   "cell_type": "markdown",
   "metadata": {},
   "source": [
    "Look for expected upstream path in a file path and replace it with '' and save it as the 'rel_path' column"
   ]
  },
  {
   "cell_type": "code",
   "execution_count": 165,
   "metadata": {},
   "outputs": [
    {
     "data": {
      "text/plain": [
       "'20191106_byc\\\\analysis\\\\20191106_byc_by4741_young_NS_data_cell_00.csv'"
      ]
     },
     "execution_count": 165,
     "metadata": {},
     "output_type": "execute_result"
    }
   ],
   "source": [
    "from byc import database, constants, utilities\n",
    "from importlib import reload\n",
    "for mod in [database, constants, utilities]:\n",
    "    reload(mod)\n",
    "tracedb = database.byc_database\n",
    "\n",
    "# Example trace_path from raw expt\n",
    "tracedf = tracedb.trace_database_df\n",
    "abspath = tracedf.trace_path.iloc[0]\n",
    "utilities.get_relpath(abspath)"
   ]
  },
  {
   "cell_type": "markdown",
   "metadata": {},
   "source": [
    "Function in byc.database.DataBase that finds all master index files in `constants.byc_data_dir`"
   ]
  },
  {
   "cell_type": "code",
   "execution_count": 170,
   "metadata": {},
   "outputs": [],
   "source": [
    "from byc import database, constants, utilities\n",
    "from importlib import reload\n",
    "for mod in [database, constants, utilities]:\n",
    "    reload(mod)\n",
    "tracedb = database.byc_database\n",
    "\n",
    "tracedf = tracedb.trace_database_df\n",
    "abspath = tracedf.trace_path.iloc[0]\n",
    "exptdir = \"C:\\\\Users\\\\John Cooper\\\\Projects\\\\byc\\\\data\\\\20191106_byc\""
   ]
  },
  {
   "cell_type": "code",
   "execution_count": 185,
   "metadata": {},
   "outputs": [
    {
     "data": {
      "text/plain": [
       "195"
      ]
     },
     "execution_count": 185,
     "metadata": {},
     "output_type": "execute_result"
    }
   ],
   "source": [
    "len(tracedf)"
   ]
  },
  {
   "cell_type": "code",
   "execution_count": 186,
   "metadata": {},
   "outputs": [
    {
     "data": {
      "text/plain": [
       "'C:\\\\Users\\\\John Cooper\\\\Projects\\\\byc\\\\data\\\\20190726_byc/20190726_byc_analysis/traces/20190726_byc_pJC010_young_old_decay_cell10.csv'"
      ]
     },
     "execution_count": 186,
     "metadata": {},
     "output_type": "execute_result"
    }
   ],
   "source": [
    "tracedf.trace_path[194]"
   ]
  },
  {
   "cell_type": "code",
   "execution_count": 171,
   "metadata": {},
   "outputs": [],
   "source": [
    "dfs_dict = database.byc_database.master_index_dfs_dict"
   ]
  },
  {
   "cell_type": "code",
   "execution_count": 175,
   "metadata": {},
   "outputs": [],
   "source": [
    "datadir = os.path.abspath(\"C:\\\\Users\\\\John Cooper\\\\Projects\\\\byc\\\\data\\\\20191106_byc\")"
   ]
  },
  {
   "cell_type": "code",
   "execution_count": 199,
   "metadata": {},
   "outputs": [
    {
     "data": {
      "text/plain": [
       "'C:\\\\Users\\\\John Cooper\\\\Projects\\\\byc\\\\data\\\\20200214_byc\\\\20200214_byc_sic1_gfp'"
      ]
     },
     "execution_count": 199,
     "metadata": {},
     "output_type": "execute_result"
    }
   ],
   "source": [
    "os.path.dirname(files[0])"
   ]
  },
  {
   "cell_type": "code",
   "execution_count": 202,
   "metadata": {},
   "outputs": [
    {
     "data": {
      "text/plain": [
       "'C:\\\\Users\\\\John Cooper\\\\Projects\\\\byc\\\\data\\\\20200214_byc\\\\20200214_byc_sic1_gfp\\\\20200214_byc_20200214_byc_sic1_gfp_cell000.csv'"
      ]
     },
     "execution_count": 202,
     "metadata": {},
     "output_type": "execute_result"
    }
   ],
   "source": [
    "files[0]"
   ]
  },
  {
   "cell_type": "code",
   "execution_count": 205,
   "metadata": {
    "scrolled": true
   },
   "outputs": [
    {
     "name": "stdout",
     "output_type": "stream",
     "text": [
      "Slicing master index df for cell 0\n",
      "cells_dfs is now 1 elements long\n",
      "Slicing master index df for cell 1\n",
      "cells_dfs is now 2 elements long\n",
      "Slicing master index df for cell 2\n",
      "cells_dfs is now 3 elements long\n",
      "Slicing master index df for cell 3\n",
      "cells_dfs is now 4 elements long\n",
      "Slicing master index df for cell 4\n",
      "cells_dfs is now 5 elements long\n",
      "Slicing master index df for cell 5\n",
      "cells_dfs is now 6 elements long\n",
      "Slicing master index df for cell 6\n",
      "cells_dfs is now 7 elements long\n",
      "Slicing master index df for cell 7\n",
      "cells_dfs is now 8 elements long\n",
      "Slicing master index df for cell 8\n",
      "cells_dfs is now 9 elements long\n",
      "Slicing master index df for cell 9\n",
      "cells_dfs is now 10 elements long\n",
      "Checking senescence data for cell 0\n",
      "sen_value is False\n",
      "first_frame is 1\n",
      "last_frame is 1\n",
      "sen_distance_from_start is -1\n",
      "Checking senescence data for cell 1\n",
      "sen_value is False\n",
      "first_frame is 1\n",
      "last_frame is 1\n",
      "sen_distance_from_start is -1\n",
      "Checking senescence data for cell 2\n",
      "sen_value is False\n",
      "first_frame is 1\n",
      "last_frame is 1\n",
      "sen_distance_from_start is -1\n",
      "Checking senescence data for cell 3\n",
      "sen_value is False\n",
      "first_frame is 1\n",
      "last_frame is 1\n",
      "sen_distance_from_start is -1\n",
      "Checking senescence data for cell 4\n",
      "sen_value is False\n",
      "first_frame is 1\n",
      "last_frame is 1\n",
      "sen_distance_from_start is -1\n",
      "Checking senescence data for cell 5\n",
      "sen_value is False\n",
      "first_frame is 1\n",
      "last_frame is 1\n",
      "sen_distance_from_start is -1\n",
      "Checking senescence data for cell 6\n",
      "sen_value is False\n",
      "first_frame is 1\n",
      "last_frame is 1\n",
      "sen_distance_from_start is -1\n",
      "Checking senescence data for cell 7\n",
      "sen_value is False\n",
      "first_frame is 1\n",
      "last_frame is 1\n",
      "sen_distance_from_start is -1\n",
      "Checking senescence data for cell 8\n",
      "sen_value is False\n",
      "first_frame is 1\n",
      "last_frame is 1\n",
      "sen_distance_from_start is -1\n",
      "Checking senescence data for cell 9\n",
      "sen_value is False\n",
      "first_frame is 1\n",
      "last_frame is 1\n",
      "sen_distance_from_start is -1\n",
      "Old cell index formatting. Looking for single digit cell index and coordinate\n",
      "Old cell index formatting. Looking for single digit cell index and coordinate\n",
      "Old cell index formatting. Looking for single digit cell index and coordinate\n",
      "Old cell index formatting. Looking for single digit cell index and coordinate\n",
      "Old cell index formatting. Looking for single digit cell index and coordinate\n",
      "Old cell index formatting. Looking for single digit cell index and coordinate\n",
      "Old cell index formatting. Looking for single digit cell index and coordinate\n",
      "Old cell index formatting. Looking for single digit cell index and coordinate\n",
      "Old cell index formatting. Looking for single digit cell index and coordinate\n",
      "Old cell index formatting. Looking for single digit cell index and coordinate\n",
      "Processing trace dataframe for cell 0 of 9\n",
      "Processing trace dataframe for cell 1 of 9\n",
      "Processing trace dataframe for cell 2 of 9\n",
      "Processing trace dataframe for cell 3 of 9\n",
      "Processing trace dataframe for cell 4 of 9\n",
      "Processing trace dataframe for cell 5 of 9\n",
      "Processing trace dataframe for cell 6 of 9\n",
      "Processing trace dataframe for cell 7 of 9\n",
      "Processing trace dataframe for cell 8 of 9\n",
      "Processing trace dataframe for cell 9 of 9\n"
     ]
    }
   ],
   "source": [
    "from byc import standard_analysis as sa\n",
    "reload(sa)\n",
    "dfs, files = sa.set_processed_traces(3, 10)"
   ]
  },
  {
   "cell_type": "code",
   "execution_count": 208,
   "metadata": {},
   "outputs": [
    {
     "data": {
      "text/plain": [
       "[<matplotlib.lines.Line2D at 0x25e14b398b0>]"
      ]
     },
     "execution_count": 208,
     "metadata": {},
     "output_type": "execute_result"
    },
    {
     "data": {
      "image/png": "[encoded data removed]",
      "text/plain": [
       "<Figure size 432x288 with 1 Axes>"
      ]
     },
     "metadata": {
      "needs_background": "light"
     },
     "output_type": "display_data"
    }
   ],
   "source": [
    "import matplotlib.pyplot as plt\n",
    "plt.plot(dfs[0]['yfp_mean'])"
   ]
  }
 ],
 "metadata": {
  "kernelspec": {
   "display_name": ".byc",
   "language": "python",
   "name": ".byc"
  },
  "language_info": {
   "codemirror_mode": {
    "name": "ipython",
    "version": 3
   },
   "file_extension": ".py",
   "mimetype": "text/x-python",
   "name": "python",
   "nbconvert_exporter": "python",
   "pygments_lexer": "ipython3",
   "version": "3.8.3"
  }
 },
 "nbformat": 4,
 "nbformat_minor": 4
}
