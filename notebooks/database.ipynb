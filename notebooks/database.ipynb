{
 "cells": [
  {
   "cell_type": "code",
   "execution_count": 35,
   "metadata": {},
   "outputs": [],
   "source": [
    "import os\n",
    "import pandas as pd"
   ]
  },
  {
   "cell_type": "markdown",
   "metadata": {},
   "source": [
    "Look for expected upstream path in a file path and replace it with '' and save it as the 'rel_path' column"
   ]
  },
  {
   "cell_type": "code",
   "execution_count": 163,
   "metadata": {},
   "outputs": [
    {
     "data": {
      "text/plain": [
       "'20191106_byc\\\\analysis\\\\20191106_byc_by4741_young_NS_data_cell_00.csv'"
      ]
     },
     "execution_count": 163,
     "metadata": {},
     "output_type": "execute_result"
    }
   ],
   "source": [
    "from byc import database, constants, utilities\n",
    "from importlib import reload\n",
    "for mod in [database, constants, utilities]:\n",
    "    reload(mod)\n",
    "tracedb = database.byc_database\n",
    "\n",
    "# Example trace_path from raw expt\n",
    "tracedf = tracedb.trace_database_df\n",
    "abspath = tracedf.trace_path.iloc[0]\n",
    "utilities.get_relpath(abspath)"
   ]
  },
  {
   "cell_type": "code",
   "execution_count": 164,
   "metadata": {},
   "outputs": [
    {
     "data": {
      "text/html": [
       "<div>\n",
       "<style scoped>\n",
       "    .dataframe tbody tr th:only-of-type {\n",
       "        vertical-align: middle;\n",
       "    }\n",
       "\n",
       "    .dataframe tbody tr th {\n",
       "        vertical-align: top;\n",
       "    }\n",
       "\n",
       "    .dataframe thead th {\n",
       "        text-align: right;\n",
       "    }\n",
       "</style>\n",
       "<table border=\"1\" class=\"dataframe\">\n",
       "  <thead>\n",
       "    <tr style=\"text-align: right;\">\n",
       "      <th></th>\n",
       "      <th>expt_name</th>\n",
       "      <th>trace_path</th>\n",
       "      <th>chase_index</th>\n",
       "      <th>bud_roi_path</th>\n",
       "      <th>trace_relpath</th>\n",
       "      <th>date</th>\n",
       "    </tr>\n",
       "  </thead>\n",
       "  <tbody>\n",
       "    <tr>\n",
       "      <th>0</th>\n",
       "      <td>20191106_byc_by4741_young_NS</td>\n",
       "      <td>C:\\Users\\John Cooper\\Projects\\byc\\data\\2019110...</td>\n",
       "      <td>5</td>\n",
       "      <td>NaN</td>\n",
       "      <td>20191106_byc\\analysis\\20191106_byc_by4741_youn...</td>\n",
       "      <td>20191106</td>\n",
       "    </tr>\n",
       "    <tr>\n",
       "      <th>1</th>\n",
       "      <td>20191106_byc_by4741_young_NS</td>\n",
       "      <td>C:\\Users\\John Cooper\\Projects\\byc\\data\\2019110...</td>\n",
       "      <td>5</td>\n",
       "      <td>NaN</td>\n",
       "      <td>20191106_byc\\analysis\\20191106_byc_by4741_youn...</td>\n",
       "      <td>20191106</td>\n",
       "    </tr>\n",
       "    <tr>\n",
       "      <th>2</th>\n",
       "      <td>20191106_byc_by4741_young_NS</td>\n",
       "      <td>C:\\Users\\John Cooper\\Projects\\byc\\data\\2019110...</td>\n",
       "      <td>5</td>\n",
       "      <td>NaN</td>\n",
       "      <td>20191106_byc\\analysis\\20191106_byc_by4741_youn...</td>\n",
       "      <td>20191106</td>\n",
       "    </tr>\n",
       "    <tr>\n",
       "      <th>3</th>\n",
       "      <td>20191106_byc_by4741_young_NS</td>\n",
       "      <td>C:\\Users\\John Cooper\\Projects\\byc\\data\\2019110...</td>\n",
       "      <td>5</td>\n",
       "      <td>NaN</td>\n",
       "      <td>20191106_byc\\analysis\\20191106_byc_by4741_youn...</td>\n",
       "      <td>20191106</td>\n",
       "    </tr>\n",
       "    <tr>\n",
       "      <th>4</th>\n",
       "      <td>20191106_byc_by4741_young_NS</td>\n",
       "      <td>C:\\Users\\John Cooper\\Projects\\byc\\data\\2019110...</td>\n",
       "      <td>5</td>\n",
       "      <td>NaN</td>\n",
       "      <td>20191106_byc\\analysis\\20191106_byc_by4741_youn...</td>\n",
       "      <td>20191106</td>\n",
       "    </tr>\n",
       "  </tbody>\n",
       "</table>\n",
       "</div>"
      ],
      "text/plain": [
       "                      expt_name  \\\n",
       "0  20191106_byc_by4741_young_NS   \n",
       "1  20191106_byc_by4741_young_NS   \n",
       "2  20191106_byc_by4741_young_NS   \n",
       "3  20191106_byc_by4741_young_NS   \n",
       "4  20191106_byc_by4741_young_NS   \n",
       "\n",
       "                                          trace_path chase_index bud_roi_path  \\\n",
       "0  C:\\Users\\John Cooper\\Projects\\byc\\data\\2019110...           5          NaN   \n",
       "1  C:\\Users\\John Cooper\\Projects\\byc\\data\\2019110...           5          NaN   \n",
       "2  C:\\Users\\John Cooper\\Projects\\byc\\data\\2019110...           5          NaN   \n",
       "3  C:\\Users\\John Cooper\\Projects\\byc\\data\\2019110...           5          NaN   \n",
       "4  C:\\Users\\John Cooper\\Projects\\byc\\data\\2019110...           5          NaN   \n",
       "\n",
       "                                       trace_relpath      date  \n",
       "0  20191106_byc\\analysis\\20191106_byc_by4741_youn...  20191106  \n",
       "1  20191106_byc\\analysis\\20191106_byc_by4741_youn...  20191106  \n",
       "2  20191106_byc\\analysis\\20191106_byc_by4741_youn...  20191106  \n",
       "3  20191106_byc\\analysis\\20191106_byc_by4741_youn...  20191106  \n",
       "4  20191106_byc\\analysis\\20191106_byc_by4741_youn...  20191106  "
      ]
     },
     "execution_count": 164,
     "metadata": {},
     "output_type": "execute_result"
    }
   ],
   "source": [
    "tracedf.head()"
   ]
  },
  {
   "cell_type": "code",
   "execution_count": 165,
   "metadata": {},
   "outputs": [],
   "source": [
    "l = tracedb.get_cell_trace_dfs('20191106_byc_by4741_young_NS')"
   ]
  }
 ],
 "metadata": {
  "kernelspec": {
   "display_name": ".byc",
   "language": "python",
   "name": ".byc"
  },
  "language_info": {
   "codemirror_mode": {
    "name": "ipython",
    "version": 3
   },
   "file_extension": ".py",
   "mimetype": "text/x-python",
   "name": "python",
   "nbconvert_exporter": "python",
   "pygments_lexer": "ipython3",
   "version": "3.8.3"
  }
 },
 "nbformat": 4,
 "nbformat_minor": 4
}
