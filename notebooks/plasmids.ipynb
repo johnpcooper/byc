{
 "cells": [
  {
   "cell_type": "code",
   "execution_count": 1,
   "metadata": {},
   "outputs": [],
   "source": [
    "import pandas as pd\n",
    "import numpy as np\n",
    "import re"
   ]
  },
  {
   "cell_type": "code",
   "execution_count": 135,
   "metadata": {},
   "outputs": [],
   "source": [
    "from importlib import reload\n",
    "\n",
    "from byc import files, utilities, constants, plasmids\n",
    "\n",
    "for mod in files, utilities, constants, plasmids:\n",
    "    reload(mod)"
   ]
  },
  {
   "cell_type": "code",
   "execution_count": 127,
   "metadata": {},
   "outputs": [],
   "source": [
    "plasmids = plasmids.Plasmids()\n",
    "fdict = plasmids.features_dict\n",
    "pdict = plasmids.plasmids_dict"
   ]
  },
  {
   "cell_type": "code",
   "execution_count": 128,
   "metadata": {},
   "outputs": [
    {
     "data": {
      "text/plain": [
       "dict_keys(['isDNA', 'exportVersion', 'importVersion', 'features', 'dna', 'seq', 'notes'])"
      ]
     },
     "execution_count": 128,
     "metadata": {},
     "output_type": "execute_result"
    }
   ],
   "source": [
    "pdict['pJC097'].keys()"
   ]
  },
  {
   "cell_type": "code",
   "execution_count": 93,
   "metadata": {},
   "outputs": [],
   "source": [
    "df = fdict['pJC097']"
   ]
  },
  {
   "cell_type": "code",
   "execution_count": 123,
   "metadata": {},
   "outputs": [],
   "source": [
    "# Filter for coding sequences that are \n",
    "# greater than min_length nucleotides in length\n",
    "min_length = 20\n",
    "CDS_df = df[df.type=='CDS']\n",
    "CDS_df = CDS_df.query(f'end - start > {min_length}').reset_index(drop=True)\n",
    "\n",
    "p2a_idx = CDS_df.index[CDS_df.name == 'P2A']\n",
    "\n",
    "expr_ctl_fluor_idx = p2a_idx - 1\n",
    "substrate_fluor_idx = p2a_idx + 1\n"
   ]
  }
 ],
 "metadata": {
  "kernelspec": {
   "display_name": ".byc",
   "language": "python",
   "name": ".byc"
  },
  "language_info": {
   "codemirror_mode": {
    "name": "ipython",
    "version": 3
   },
   "file_extension": ".py",
   "mimetype": "text/x-python",
   "name": "python",
   "nbconvert_exporter": "python",
   "pygments_lexer": "ipython3",
   "version": "3.8.3"
  }
 },
 "nbformat": 4,
 "nbformat_minor": 4
}
