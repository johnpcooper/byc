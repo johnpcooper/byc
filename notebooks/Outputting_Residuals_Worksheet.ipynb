{
 "cells": [
  {
   "cell_type": "code",
   "execution_count": null,
   "metadata": {},
   "outputs": [],
   "source": [
    "from importlib import reload\n",
    "import pandas as pd\n",
    "import numpy as np\n",
    "# Plotting tools\n",
    "import matplotlib\n",
    "import matplotlib.pyplot as plt\n",
    "import seaborn as sns\n",
    "from matplotlib import cm\n",
    "from matplotlib.colors import ListedColormap, LinearSegmentedColormap\n",
    "# Stats analysis tools\n",
    "from scipy.stats import shapiro\n",
    "from scipy.stats import gaussian_kde\n",
    "from scipy.signal import find_peaks\n",
    "# byc modules\n",
    "from byc import plotting\n",
    "import byc.standard_analysis as sa\n",
    "import byc.fitting_tools as ft\n",
    "import byc.files as fm\n",
    "import byc.database as db\n",
    "import byc.trace_tools as tt\n",
    "# Set styles\n",
    "plotting.set_styles(plt, matplotlib)"
   ]
  },
  {
   "cell_type": "code",
   "execution_count": null,
   "metadata": {},
   "outputs": [],
   "source": [
    "reloads = [sa, ft, plotting,\n",
    "           fm, db, tt]\n",
    "for module in reloads:\n",
    "    reload(module)\n",
    "byc_database = db.byc_database"
   ]
  },
  {
   "cell_type": "code",
   "execution_count": null,
   "metadata": {},
   "outputs": [],
   "source": [
    "byc_database = db.byc_database\n",
    "db_df = byc_database.trace_database_df\n",
    "expt_names = db_df.expt_name.unique()\n",
    "expt_names"
   ]
  },
  {
   "cell_type": "code",
   "execution_count": null,
   "metadata": {},
   "outputs": [],
   "source": [
    "expt_summaries = ['UBL-YFP-NS int. in young BY4741',\n",
    "                  'RKK-YFP-Su9 int. in young BY4741',\n",
    "                  'RKK-YFP-SP2 int. in young BY4741',\n",
    "                  'UBL-YFP-NS cen4 in young rpn4d',\n",
    "                  'UBL-YFP-NS cen4 in old rpn4d',\n",
    "                  'UBL-YFP-NS cen4 in old pdr5d',\n",
    "                  'UBL-YFP-NS cen4 in young pdr5d',\n",
    "                  'UBL-YFP-NS cen4 in young ubr2d',\n",
    "                  'UBL-YFP NS cen4 in young and old pdr5d']\n",
    "\n",
    "summ_dict = dict(zip(expt_names, expt_summaries))"
   ]
  },
  {
   "cell_type": "code",
   "execution_count": null,
   "metadata": {},
   "outputs": [],
   "source": [
    "dfs_lists = [byc_database.get_cell_trace_dfs(name) for name in expt_names[0:8]]\n",
    "chase_indices = []\n",
    "for i in range(len(dfs_lists)):\n",
    "    dfs_list = dfs_lists[i]\n",
    "    name = expt_names[i]\n",
    "    db_df_expt = db_df[db_df.expt_name == name]\n",
    "    chase_index = db_df_expt.loc[db_df_expt.index.min(), 'chase_index']\n",
    "    chase_indices.append(chase_index)\n",
    "    \n",
    "    for df in dfs_list:\n",
    "        df.loc[:, 'expt_name'] = name\n",
    "        df.loc[:, 'summary'] = expt_summaries[i]\n",
    "        \n",
    "chase_ind_dict = dict(zip(expt_names, chase_indices))"
   ]
  },
  {
   "cell_type": "code",
   "execution_count": null,
   "metadata": {},
   "outputs": [],
   "source": [
    "chase_ind_dict"
   ]
  },
  {
   "cell_type": "code",
   "execution_count": null,
   "metadata": {},
   "outputs": [],
   "source": [
    "from importlib import reload\n",
    "reload(fitting_tools)"
   ]
  },
  {
   "cell_type": "code",
   "execution_count": null,
   "metadata": {
    "scrolled": true
   },
   "outputs": [],
   "source": [
    "# Fit all the experiments with single and double expential and create a list of the groupby\n",
    "# fit outputs for each expt\n",
    "fit_dfs = []\n",
    "expt_i = 0\n",
    "for dfs_list in dfs_lists:\n",
    "    expt_name = expt_names[expt_i]\n",
    "    chase_start = chase_indices[expt_i]\n",
    "    print(type(chase_start))\n",
    "    \n",
    "    single_df = ft.get_all_fits_df(dfs_list, int(chase_start), window_size=36, fit_func=ft.single_exp)\n",
    "    single_df = single_df.groupby(by='cell_index').median().reset_index()\n",
    "    single_df.loc[:, 'fit_type'] = 'single_exp'\n",
    "\n",
    "    double_df = ft.get_all_fits_df(dfs_list, int(chase_start), window_size=36, fit_func=ft.double_exp)\n",
    "    double_df = double_df.groupby(by='cell_index').median().reset_index()\n",
    "    double_df.loc[:, 'fit_type'] = 'double_exp'\n",
    "\n",
    "    single_double_df = pd.concat([single_df, double_df], ignore_index=True, sort=False)\n",
    "    single_double_df.loc[:, 'expt_name'] = expt_name\n",
    "    expt_i += 1\n",
    "    \n",
    "    fit_dfs.append(single_double_df)\n",
    "    \n",
    "all_fit_dfs = pd.concat(fit_dfs, ignore_index=True, sort=False)"
   ]
  },
  {
   "cell_type": "code",
   "execution_count": null,
   "metadata": {},
   "outputs": [],
   "source": [
    "ax = plt.axes()\n",
    "ax.hist(all_fit_dfs.e)\n",
    "ax.set_xscale('log')"
   ]
  },
  {
   "cell_type": "code",
   "execution_count": null,
   "metadata": {},
   "outputs": [],
   "source": [
    "sorted_by_b = all_fit_dfs[all_fit_dfs.fit_type == 'single_exp'].groupby(by='expt_name').median().sort_values(by='b').reset_index()"
   ]
  },
  {
   "cell_type": "code",
   "execution_count": null,
   "metadata": {},
   "outputs": [],
   "source": [
    "sorted_by_b"
   ]
  },
  {
   "cell_type": "code",
   "execution_count": null,
   "metadata": {},
   "outputs": [],
   "source": [
    "all_fit_dfs.loc[:, 'log_shapiro_p'] = np.log10(all_fit_dfs.shapiro_p)"
   ]
  },
  {
   "cell_type": "code",
   "execution_count": null,
   "metadata": {},
   "outputs": [],
   "source": [
    "all_fit_dfs.log_shapiro_p.max()"
   ]
  },
  {
   "cell_type": "code",
   "execution_count": null,
   "metadata": {},
   "outputs": [],
   "source": [
    "all_fit_dfs.shapiro_p.max()"
   ]
  },
  {
   "cell_type": "code",
   "execution_count": null,
   "metadata": {},
   "outputs": [],
   "source": [
    "colors[0]"
   ]
  },
  {
   "cell_type": "code",
   "execution_count": null,
   "metadata": {},
   "outputs": [],
   "source": [
    "colors[1]"
   ]
  },
  {
   "cell_type": "code",
   "execution_count": null,
   "metadata": {},
   "outputs": [],
   "source": [
    "np.linspace(0, 1, 5)"
   ]
  },
  {
   "cell_type": "markdown",
   "metadata": {},
   "source": [
    "### Plot rates"
   ]
  },
  {
   "cell_type": "code",
   "execution_count": null,
   "metadata": {},
   "outputs": [],
   "source": [
    "xlabels = []\n",
    "\n",
    "for name in sorted_by_b.expt_name:\n",
    "    summary = summ_dict[name]\n",
    "    single_decay_rate = np.round(float(sorted_by_b[sorted_by_b.expt_name == name].b), 2)\n",
    "    single_decay_rate = str(single_decay_rate)\n",
    "    \n",
    "    xlabel = f'{summary} ({single_decay_rate})'\n",
    "    xlabels.append(xlabel)\n",
    "\n",
    "fig = plt.figure(figsize=(7, 4), tight_layout=True)\n",
    "fig.set_dpi(300)\n",
    "colors = cm.rainbow(np.linspace(0, 1, 8), alpha=1)\n",
    "ax = sns.stripplot(x='b', y='expt_name', data=all_fit_dfs,\n",
    "                   order=sorted_by_b.expt_name, dodge=True,\n",
    "                   palette=colors, alpha=0.4, size=7, orient='h')\n",
    "\n",
    "ax.set_yticklabels(xlabels)\n",
    "ax.set_ylabel('Experiment (with Median Single Decay Rate)', fontsize=12)\n",
    "ax.set_xlabel('Single Decay Rate (1/hr.)', fontsize=12)\n",
    "#ax.set_xscale('log')\n",
    "ax.set_xlim(0, 4)\n",
    "for spine in [ax.spines[name] for name in ['top', 'right']]:\n",
    "    spine.set_visible(False)\n",
    "    \n",
    "\n",
    "fig.savefig('all_experiments_single_decay_constant_vs_median_single_decay_constant.png')"
   ]
  },
  {
   "cell_type": "markdown",
   "metadata": {},
   "source": [
    "### Plot resids shapiro p"
   ]
  },
  {
   "cell_type": "code",
   "execution_count": null,
   "metadata": {},
   "outputs": [],
   "source": [
    "xlabels = []\n",
    "\n",
    "for name in sorted_by_b.expt_name:\n",
    "    summary = summ_dict[name]\n",
    "    single_decay_rate = np.round(float(sorted_by_b[sorted_by_b.expt_name == name].b), 2)\n",
    "    single_decay_rate = str(single_decay_rate)\n",
    "    \n",
    "    xlabel = f'{summary} ({single_decay_rate})'\n",
    "    xlabels.append(xlabel)\n",
    "\n",
    "fig = plt.figure(figsize=(7, 4), tight_layout=True)\n",
    "fig.set_dpi(300)\n",
    "colors = cm.rainbow(np.linspace(0, 1, 4), alpha=0.3)\n",
    "ax = sns.stripplot(x='shapiro_p', y='expt_name', hue='fit_type', data=all_fit_dfs,\n",
    "                   order=sorted_by_b.expt_name, palette=['purple', 'green'], dodge=True,\n",
    "                   alpha=0.3, size=7, orient='h')\n",
    "\n",
    "ax.set_yticklabels(xlabels)\n",
    "ax.set_ylabel('Experiment (with Median Single Decay Rate)', fontsize=12)\n",
    "ax.axvline(0.05, color='black', linestyle='--', alpha=0.8)\n",
    "ax.set_xlabel('log(Shapiro p of Residuals)', fontsize=12)\n",
    "ax.set_xscale('log')\n",
    "ax.set_xlim(1.2, 0.00001)\n",
    "for spine in [ax.spines[name] for name in ['top', 'right']]:\n",
    "    spine.set_visible(False)\n",
    "    \n",
    "\n",
    "fig.savefig('all_experiments_resids_shapiro_p_vs_median_single_decay_constant.png')"
   ]
  },
  {
   "cell_type": "markdown",
   "metadata": {},
   "source": [
    "### Plot resids std. error"
   ]
  },
  {
   "cell_type": "code",
   "execution_count": null,
   "metadata": {},
   "outputs": [],
   "source": [
    "xlabels = []\n",
    "\n",
    "for name in sorted_by_b.expt_name:\n",
    "    summary = summ_dict[name]\n",
    "    single_decay_rate = np.round(float(sorted_by_b[sorted_by_b.expt_name == name].b), 2)\n",
    "    single_decay_rate = str(single_decay_rate)\n",
    "    \n",
    "    xlabel = f'{summary} ({single_decay_rate})'\n",
    "    xlabels.append(xlabel)\n",
    "\n",
    "fig = plt.figure(figsize=(7, 4), tight_layout=True)\n",
    "fig.set_dpi(300)\n",
    "colors = cm.rainbow(np.linspace(0, 1, 4), alpha=0.3)\n",
    "ax = sns.stripplot(x='est_std_err', y='expt_name', hue='fit_type', data=all_fit_dfs,\n",
    "                   order=sorted_by_b.expt_name, palette=['purple', 'green'], dodge=True,\n",
    "                   alpha=0.3, size=7, orient='h')\n",
    "\n",
    "ax.set_yticklabels(xlabels)\n",
    "ax.set_ylabel('Experiment (with Median Single Decay Rate)', fontsize=12)\n",
    "ax.set_xlabel('Standard Error of Regression (norm. YFP))', fontsize=12)\n",
    "ax.set_xlim(0, 0.3)\n",
    "for spine in [ax.spines[name] for name in ['top', 'right']]:\n",
    "    spine.set_visible(False)\n",
    "    \n",
    "\n",
    "fig.savefig('all_experiments_est_std_err_vs_median_single_decay_constant.png')"
   ]
  },
  {
   "cell_type": "markdown",
   "metadata": {},
   "source": [
    "### Error vs. Shapiro p"
   ]
  },
  {
   "cell_type": "code",
   "execution_count": null,
   "metadata": {},
   "outputs": [],
   "source": [
    "ax = plt.axes()\n",
    "ax.scatter(all_fit_dfs.shapiro_p, all_fit_dfs.est_std_err,\n",
    "            alpha=0.1)\n",
    "\n",
    "ax.set_xlim(1.2, 0.00001)\n",
    "ax.set_xscale('log')\n",
    "#ax.set_xticks(np.linspace(0.1, -5, 5))\n",
    "\n",
    "ax.set_ylim(0, 0.2)\n",
    "ax.set_yticks(np.linspace(0, 0.2, 5))"
   ]
  },
  {
   "cell_type": "code",
   "execution_count": null,
   "metadata": {
    "scrolled": false
   },
   "outputs": [],
   "source": [
    "# Fit cell in all possible windows of width 30 frames \n",
    "scan_df = ft.scan_start_frames(dfs_list[1])\n",
    "ax = plt.axes()\n",
    "ax.scatter(scan_df.start_frame, scan_df.est_std_err)\n",
    "ax2 = ax.twinx()\n",
    "ax2.plot(dfs_list[0].Slice-1, dfs_list[0].yfp_norm)\n",
    "ax2.axvline(scan_df.start_frame[scan_df.est_std_err.argmin()])\n",
    "print(scan_df.est_std_err.argmin())"
   ]
  },
  {
   "cell_type": "code",
   "execution_count": null,
   "metadata": {},
   "outputs": [],
   "source": [
    "def add_columns_suffix(df, suffix):\n",
    "    \n",
    "    old_names = list(df.loc[:, :'y_input_norm'].columns)\n",
    "    new_names = [f'{col}_{suffix}' for col in df.loc[:, 'y_pred_norm':].columns]\n",
    "    all_names = old_names + new_names\n",
    "    new_name_dict = dict(zip(list(df.columns), all_names))\n",
    "    new_df = df.rename(columns=new_name_dict).copy()\n",
    "    \n",
    "    return new_df"
   ]
  },
  {
   "cell_type": "markdown",
   "metadata": {},
   "source": [
    "#### Merging data frames and having separate columns for each disparate fit output"
   ]
  },
  {
   "cell_type": "code",
   "execution_count": null,
   "metadata": {},
   "outputs": [],
   "source": [
    "single_df = ft.get_all_fits_df(dfs_list, chase_start, window_size='max', fit_func=ft.single_exp)\n",
    "single_df = single_df.groupby(by='cell_index').median().reset_index()\n",
    "double_df = ft.get_all_fits_df(dfs_list, chase_start, window_size='max', fit_func=ft.double_exp)\n",
    "double_df = double_df.groupby(by='cell_index').median().reset_index()\n",
    "\n",
    "single_df = add_columns_suffix(single_df, suffix='single')\n",
    "double_df = add_columns_suffix(double_df, suffix='double')\n",
    "\n",
    "single_double_df = single_df.merge(double_df, how='outer', on='cell_index').copy()"
   ]
  },
  {
   "cell_type": "code",
   "execution_count": null,
   "metadata": {},
   "outputs": [],
   "source": [
    "plt.scatter(single_double_df.est_std_err_single, single_double_df.est_std_err_double)"
   ]
  },
  {
   "cell_type": "markdown",
   "metadata": {},
   "source": [
    "#### Concating data frames and having another column to say type of fit"
   ]
  },
  {
   "cell_type": "code",
   "execution_count": null,
   "metadata": {},
   "outputs": [],
   "source": [
    "single_df = ft.get_all_fits_df(dfs_list, chase_start, window_size='max', fit_func=ft.single_exp)\n",
    "single_df = single_df.groupby(by='cell_index').median().reset_index()\n",
    "single_df.loc[:, 'fit_type'] = 'single_exp'\n",
    "\n",
    "double_df = ft.get_all_fits_df(dfs_list, chase_start, window_size='max', fit_func=ft.double_exp)\n",
    "double_df = double_df.groupby(by='cell_index').median().reset_index()\n",
    "double_df.loc[:, 'fit_type'] = 'double_exp'"
   ]
  },
  {
   "cell_type": "code",
   "execution_count": null,
   "metadata": {},
   "outputs": [],
   "source": [
    "single_double_df = pd.concat([single_df, double_df], ignore_index=True, sort=False)"
   ]
  },
  {
   "cell_type": "code",
   "execution_count": null,
   "metadata": {},
   "outputs": [],
   "source": [
    "single_double_df.columns"
   ]
  },
  {
   "cell_type": "code",
   "execution_count": null,
   "metadata": {},
   "outputs": [],
   "source": [
    "fig = plt.figure(figsize=(3, 3))\n",
    "fig.set_dpi(100)\n",
    "\n",
    "ax = sns.swarmplot(x='fit_type', y='shapiro_p', hue='cell_index', data=single_double_df)\n",
    "ax.legend('')"
   ]
  },
  {
   "cell_type": "code",
   "execution_count": null,
   "metadata": {},
   "outputs": [],
   "source": [
    "reload(ft)"
   ]
  },
  {
   "cell_type": "code",
   "execution_count": null,
   "metadata": {},
   "outputs": [],
   "source": [
    "reload(plotting)"
   ]
  },
  {
   "cell_type": "code",
   "execution_count": null,
   "metadata": {},
   "outputs": [],
   "source": [
    "20191213_byc_by4741_young_rkk-sp2_pJC033\n",
    "20191106_byc_by4741_young_NS"
   ]
  },
  {
   "cell_type": "code",
   "execution_count": null,
   "metadata": {},
   "outputs": [],
   "source": [
    "len(dfs_list)"
   ]
  },
  {
   "cell_type": "markdown",
   "metadata": {},
   "source": [
    "### Plot traces and residuals vs. time and probability density of residuals"
   ]
  },
  {
   "cell_type": "code",
   "execution_count": null,
   "metadata": {
    "scrolled": false
   },
   "outputs": [],
   "source": [
    "expt_name = '20191106_byc_by4741_young_NS'\n",
    "dfs_list = byc_database.get_cell_trace_dfs(expt_name)[0:10]\n",
    "chase_start = chase_ind_dict[expt_name]\n",
    "\n",
    "single_fits_df = ft.get_all_fits_df(dfs_list, chase_start, window_size=36, fit_func=ft.single_exp,\n",
    "                                    col_name='yfp_norm')\n",
    "\n",
    "xticks_traces = np.linspace(0, 6, 7)\n",
    "yticks_traces = [0, .2, .4, .6, .8, 1.0, 1.2]\n",
    "\n",
    "yticks_resids = np.linspace(-0.3, 0.3, 5)\n",
    "\n",
    "plotting.plot_fits_and_residuals(single_fits_df, dfs_list, expt_name, scatteralpha=0.8, linealpha=0.8,\n",
    "                                 xticks_traces=xticks_traces, yticks_traces=yticks_traces,\n",
    "                                 yticks_resids=yticks_resids)"
   ]
  },
  {
   "cell_type": "markdown",
   "metadata": {},
   "source": [
    "### Table of fit parameters and quality measures"
   ]
  },
  {
   "cell_type": "code",
   "execution_count": null,
   "metadata": {
    "scrolled": false
   },
   "outputs": [],
   "source": [
    "all_fits_df = single_fits_df\n",
    "sort_by = 'est_std_err'\n",
    "\n",
    "filename = f'{expt_name}_double_exp_rates_and_errors'\n",
    "fileformat = '.png'\n",
    "\n",
    "col_keys = ['b',\n",
    "            'shapiro_p',\n",
    "            'est_std_err',\n",
    "            'r_sq']\n",
    "\n",
    "col_titles=['k (1/hr.)',\n",
    "            'Shapiro p\\nof Residuals',\n",
    "            'Estimate Std.\\n Err.',\n",
    "            'r_sq']\n",
    "\n",
    "alpha = 0.05\n",
    "colwidths = [0.1 for col in col_titles]\n",
    "width = 1.8\n",
    "height = 1.75\n",
    "loc = 'center'\n",
    "\n",
    "all_fits_df_gb = all_fits_df.groupby(by='cell_index').median().copy()\n",
    "sorted_df = all_fits_df_gb.sort_values(by=sort_by)\n",
    "\n",
    "colors = cm.rainbow(np.linspace(0, 1, len(dfs_list)), alpha=0.65)\n",
    "colors_sorted = [colors[i] for i in sorted_df.index]\n",
    "\n",
    "fig = plt.figure(figsize=(5, 5), tight_layout=True)\n",
    "fig.set_dpi(300)\n",
    "ax = fig.add_subplot()\n",
    "\n",
    "cell_indices = sorted_df.index\n",
    "row_labels = [f'Cell {i}' for i in cell_indices]\n",
    "cell_text = []\n",
    "# Add rate constant and p value etc. for each cell\n",
    "for cell_index in cell_indices:\n",
    "\n",
    "    cell_text_row = []\n",
    "    for column in col_keys:\n",
    "        cell_text_row_val = sorted_df.loc[cell_index, column]\n",
    "        cell_text_row_val = np.round(cell_text_row_val, 3)\n",
    "        \n",
    "        if column == 'shapiro_p' and cell_text_row_val < alpha:\n",
    "            shapiro_p_star = f'*{cell_text_row_val}'\n",
    "            cell_text_row.append(shapiro_p_star)\n",
    "        else:\n",
    "            cell_text_row.append(cell_text_row_val)\n",
    "            \n",
    "    cell_text.append(cell_text_row)\n",
    "\n",
    "table = ax.table(cellText=cell_text,\n",
    "                 colLabels=col_titles,\n",
    "                 rowLabels=row_labels,\n",
    "                 rowColours=colors_sorted,\n",
    "                 colWidths=colwidths,\n",
    "                 loc=loc)\n",
    "table.set_fontsize(12)\n",
    "table.scale(width, height)\n",
    "\n",
    "if filename:\n",
    "    fig.savefig(f'{filename}{fileformat}')"
   ]
  }
 ],
 "metadata": {
  "kernelspec": {
   "display_name": ".byc",
   "language": "python",
   "name": ".byc"
  },
  "language_info": {
   "codemirror_mode": {
    "name": "ipython",
    "version": 3
   },
   "file_extension": ".py",
   "mimetype": "text/x-python",
   "name": "python",
   "nbconvert_exporter": "python",
   "pygments_lexer": "ipython3",
   "version": "3.8.3"
  }
 },
 "nbformat": 4,
 "nbformat_minor": 2
}
