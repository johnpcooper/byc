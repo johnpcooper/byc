{
 "cells": [
  {
   "cell_type": "markdown",
   "metadata": {},
   "source": [
    "### Creating master index based on features found in filenames"
   ]
  },
  {
   "cell_type": "code",
   "execution_count": null,
   "metadata": {},
   "outputs": [],
   "source": [
    "import glob, os, re\n",
    "from importlib import reload\n",
    "\n",
    "import numpy as np\n",
    "import pandas as pd\n",
    "\n",
    "import seaborn as sns\n",
    "import matplotlib.pyplot as plt\n",
    "import matplotlib\n",
    "\n",
    "import byc\n",
    "from byc import steady_state_analysis as ssa\n",
    "from byc import constants, files, utilities, plotting\n",
    "for pkg in [constants, files, utilities, plotting]:\n",
    "    reload(pkg)\n",
    "\n",
    "patterns = constants.patterns\n",
    "plotting.set_styles(plt, matplotlib)"
   ]
  },
  {
   "cell_type": "code",
   "execution_count": 6,
   "metadata": {},
   "outputs": [],
   "source": [
    "def find_measdirname_features(measdirpath, feature_patterns):\n",
    "    \"\"\"\n",
    "    Take a micromanager multi-d acquisition output directory, e.g.\n",
    "    \"20210421_pJC031_BY4741_constantOD_250uM-Tet_time000_1\", find\n",
    "    values for different feature categories defined in feature_patterns,\n",
    "    and return a dictionary of those feature names and their regex\n",
    "    match objects in a dictionary\n",
    "    \"\"\"\n",
    "    measdirname = os.path.basename(os.path.dirname(measdirpath))\n",
    "    matches_dict = {}\n",
    "    sampledf = pd.DataFrame({'sample': measdirname}, index=[0])\n",
    "    for key, val in feature_patterns.items():\n",
    "        feature_match = re.search(val, measdirname)\n",
    "        if feature_match:\n",
    "            matches_dict[key] = feature_match\n",
    "            \n",
    "    matches_dict['path'] = measdirpath.replace(measdirname, '')\n",
    "    matches_dict['measdirname'] = measdirname\n",
    "    return matches_dict\n",
    "\n",
    "def measdf_from_features_dict(features_dict):\n",
    "    \"\"\"\n",
    "    Iterate through each regex match object in the features\n",
    "    dict, if the feature needs to be quantified, extract the \n",
    "    number. If not, extract only the match.group(). Then put\n",
    "    these feature names and values into a single row dataframe\n",
    "    for the measurement\n",
    "    \n",
    "    Return the dataframe\n",
    "    \"\"\"\n",
    "\n",
    "    for key, val in features_dict.items():\n",
    "        group0_vars = ['tet_concn',\n",
    "                       'estradiol_concn']\n",
    "        group1_vars = ['minutes',\n",
    "                       'clone_number']\n",
    "        # Some information annotated in find_measdirname_features\n",
    "        # is already a string etc., so only extract groups if\n",
    "        # the value in the features_dict is actually an re.Match\n",
    "        if type(val) == re.Match:\n",
    "            if key in group1_vars:\n",
    "                number = val.groups()[1]\n",
    "                features_dict[key] = np.float(number)\n",
    "            elif key in group0_vars:\n",
    "                number = val.groups()[0]\n",
    "                features_dict[key] = np.float(number)\n",
    "            else:\n",
    "                value = val.group()\n",
    "                features_dict[key] = value\n",
    "\n",
    "    measdf = pd.DataFrame(features_dict, index=[0])\n",
    "    return measdf\n",
    "\n",
    "def make_ss_mdf(exptname, **kwargs):\n",
    "    \"\"\"\n",
    "    Create and save master index made by scanning the directory\n",
    "    matching `exptname` in constants.steady_state_data_dir\n",
    "    and looking for features in those micromanager output\n",
    "    directories defined in featuer_patterns\n",
    "    \"\"\"\n",
    "    write_mdf = kwargs.get('write_mdf', True)\n",
    "    return_mdf = kwargs.get('write_mdf', True)\n",
    "    ssdir = constants.steady_state_data_dir\n",
    "    exptdir = os.path.join(ssdir, exptname)\n",
    "    datadir = os.path.join(exptdir, 'data')\n",
    "    measdirpaths = glob.glob(f\"{datadir}/*/\")\n",
    "    measdirpaths = [p for p in measdirpaths if os.path.isdir(p)]\n",
    "\n",
    "    feature_patterns = {'expt_date': patterns.date,\n",
    "                        'plasmid': patterns.plasmid_name,\n",
    "                        'genotype': patterns.genotype,\n",
    "                        'tet_concn': patterns.tet_concn,\n",
    "                        'estradiol_concn': patterns.estradiol_concn,\n",
    "                        'culture_condition': patterns.culture_condition,\n",
    "                        'minutes': patterns.timepoint_mins,\n",
    "                        'clone_number': patterns.clone_number}\n",
    "\n",
    "    # Make indivudal rows of the master index\n",
    "    measdfs = []\n",
    "    for measdirpath in measdirpaths:\n",
    "        features_dict = find_measdirname_features(measdirpath, feature_patterns)\n",
    "        measdf = measdf_from_features_dict(features_dict)\n",
    "        measdfs.append(measdf)\n",
    "    # Create the master index\n",
    "    mdf = pd.concat(measdfs, ignore_index=True)\n",
    "    \n",
    "    if write_mdf:\n",
    "        filename = f'{mdf.expt_date.iloc[0]}_master_index.csv'\n",
    "        writepath = os.path.join(exptdir, filename)\n",
    "        mdf.to_csv(writepath, index=False)\n",
    "        print(f'Saved master index at \\n{writepath}')\n",
    "    if return_mdf:\n",
    "        return mdf"
   ]
  },
  {
   "cell_type": "markdown",
   "metadata": {},
   "source": [
    "### Create master index using features found for each measurement dir"
   ]
  },
  {
   "cell_type": "code",
   "execution_count": 7,
   "metadata": {},
   "outputs": [
    {
     "name": "stdout",
     "output_type": "stream",
     "text": [
      "Saved master index at \n",
      "C:\\Users\\John Cooper\\Box Sync\\Finkelstein-Matouschek\\images\\20210421_pJC031_BY4741_rpn4d_timecourse\\20210421_master_index.csv\n"
     ]
    }
   ],
   "source": [
    "mdf = make_ss_mdf(\"20210421_pJC031_BY4741_rpn4d_timecourse\")"
   ]
  },
  {
   "cell_type": "markdown",
   "metadata": {},
   "source": [
    "### Adapt `byc.files.rename_steady_state()` to work more flexibly with master indexes made above\n",
    "\n",
    "Ultimately I think I'll need to more significantly change `steady_state_analysis.make_expt_df()` so that it looks for .csv measurement files using regex rather than explicit strings"
   ]
  }
 ],
 "metadata": {
  "kernelspec": {
   "display_name": ".byc",
   "language": "python",
   "name": ".byc"
  },
  "language_info": {
   "codemirror_mode": {
    "name": "ipython",
    "version": 3
   },
   "file_extension": ".py",
   "mimetype": "text/x-python",
   "name": "python",
   "nbconvert_exporter": "python",
   "pygments_lexer": "ipython3",
   "version": "3.8.3"
  }
 },
 "nbformat": 4,
 "nbformat_minor": 4
}
