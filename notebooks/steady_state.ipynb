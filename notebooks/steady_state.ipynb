{
 "cells": [
  {
   "cell_type": "markdown",
   "metadata": {},
   "source": [
    "### Creating master index based on features found in filenames"
   ]
  },
  {
   "cell_type": "code",
   "execution_count": 1,
   "metadata": {},
   "outputs": [],
   "source": [
    "import glob, os, re\n",
    "from importlib import reload\n",
    "\n",
    "import numpy as np\n",
    "import pandas as pd\n",
    "\n",
    "import seaborn as sns\n",
    "import matplotlib.pyplot as plt\n",
    "import matplotlib\n",
    "\n",
    "import byc\n",
    "from byc import steady_state_analysis as ssa\n",
    "from byc import constants, files, utilities, plotting\n",
    "for pkg in [constants, files, utilities, plotting]:\n",
    "    reload(pkg)\n",
    "\n",
    "patterns = constants.patterns\n",
    "plotting.set_styles(plt, matplotlib)"
   ]
  },
  {
   "cell_type": "markdown",
   "metadata": {},
   "source": [
    "### Create master index using features found for each measurement dir and reformat micromanager output so the data can be analyzed using `measure_steady_state` `imagejpc` plugin"
   ]
  },
  {
   "cell_type": "code",
   "execution_count": 5,
   "metadata": {},
   "outputs": [
    {
     "data": {
      "text/plain": [
       "<module 'byc.constants' from 'C:\\\\Users\\\\johnp\\\\Dropbox\\\\Projects\\\\byc\\\\byc\\\\constants.py'>"
      ]
     },
     "execution_count": 5,
     "metadata": {},
     "output_type": "execute_result"
    }
   ],
   "source": [
    "reload(files)\n",
    "reload(constants)"
   ]
  },
  {
   "cell_type": "code",
   "execution_count": 3,
   "metadata": {},
   "outputs": [],
   "source": [
    "files.make_ss_mdf??"
   ]
  },
  {
   "cell_type": "code",
   "execution_count": 6,
   "metadata": {},
   "outputs": [
    {
     "name": "stdout",
     "output_type": "stream",
     "text": [
      "Found dataset directory at \n",
      "C:\\Users\\johnp\\Box\\Finkelstein-Matouschek\\images\\20230502_PAS1058_autotrophs/data\n"
     ]
    }
   ],
   "source": [
    "exptname = '20230502_PAS1058_autotrophs'\n",
    "mdf = files.make_ss_mdf(exptname)"
   ]
  },
  {
   "cell_type": "code",
   "execution_count": 7,
   "metadata": {},
   "outputs": [],
   "source": [
    "files.rename_steady_state(master_index_df=mdf)"
   ]
  }
 ],
 "metadata": {
  "kernelspec": {
   "display_name": ".byc",
   "language": "python",
   "name": ".byc"
  },
  "language_info": {
   "codemirror_mode": {
    "name": "ipython",
    "version": 3
   },
   "file_extension": ".py",
   "mimetype": "text/x-python",
   "name": "python",
   "nbconvert_exporter": "python",
   "pygments_lexer": "ipython3",
   "version": "3.10.11"
  },
  "vscode": {
   "interpreter": {
    "hash": "9fb5b175484e3445d43235b3273539be3d3c237c7e7152a5ca180dad8b624fac"
   }
  }
 },
 "nbformat": 4,
 "nbformat_minor": 4
}
