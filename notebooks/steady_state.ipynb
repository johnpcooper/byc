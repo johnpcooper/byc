{
 "cells": [
  {
   "cell_type": "code",
   "execution_count": 17,
   "metadata": {},
   "outputs": [],
   "source": [
    "from byc import constants, utilities, files\n",
    "\n",
    "from importlib import reload\n",
    "\n",
    "for mod in [constants, utilities, files]:\n",
    "    reload(mod)"
   ]
  },
  {
   "cell_type": "code",
   "execution_count": 18,
   "metadata": {},
   "outputs": [
    {
     "name": "stdout",
     "output_type": "stream",
     "text": [
      "Condition found: 20201117_pJC183_BY4741_000uM-Tet_clone1\n",
      "Processing files found in condition dir:\n",
      "C:\\Users\\John Cooper\\Box Sync\\Finkelstein-Matouschek\\images\\20201117_pJC183_BY4741\\data\\20201117_pJC183_BY4741_000uM-Tet_clone1\n",
      "Couldn't find a file for every channel in:\n",
      "<built-in method keys of dict object at 0x000001C5D0C3CFC0>. Only found files for the following: ['bf', 'rfp', 'yfp']\n",
      "Couldn't find a file for every channel in:\n",
      "<built-in method keys of dict object at 0x000001C5D0C3CFC0>. Only found files for the following: ['bf', 'rfp', 'yfp']\n",
      "Couldn't find a file for every channel in:\n",
      "<built-in method keys of dict object at 0x000001C5D0C3CFC0>. Only found files for the following: ['bf', 'rfp', 'yfp']\n",
      "Condition found: 20201117_pJC183_BY4741_250uM-Tet_clone1\n",
      "Processing files found in condition dir:\n",
      "C:\\Users\\John Cooper\\Box Sync\\Finkelstein-Matouschek\\images\\20201117_pJC183_BY4741\\data\\20201117_pJC183_BY4741_250uM-Tet_clone1\n",
      "Couldn't find a file for every channel in:\n",
      "<built-in method keys of dict object at 0x000001C5D0C3C500>. Only found files for the following: ['bf', 'rfp', 'yfp']\n",
      "Couldn't find a file for every channel in:\n",
      "<built-in method keys of dict object at 0x000001C5D0C3C500>. Only found files for the following: ['bf', 'rfp', 'yfp']\n",
      "Couldn't find a file for every channel in:\n",
      "<built-in method keys of dict object at 0x000001C5D0C3C500>. Only found files for the following: ['bf', 'rfp', 'yfp']\n",
      "Couldn't find a file for every channel in:\n",
      "<built-in method keys of dict object at 0x000001C5D0C3C500>. Only found files for the following: ['bf', 'rfp', 'yfp']\n",
      "Couldn't find a file for every channel in:\n",
      "<built-in method keys of dict object at 0x000001C5D0C3C500>. Only found files for the following: ['bf', 'rfp', 'yfp']\n",
      "Couldn't find a file for every channel in:\n",
      "<built-in method keys of dict object at 0x000001C5D0C3C500>. Only found files for the following: ['bf', 'rfp', 'yfp']\n",
      "Condition found: 20201117_no-plasmid_BY4741_000uM-Tet_clone1\n",
      "Processing files found in condition dir:\n",
      "C:\\Users\\John Cooper\\Box Sync\\Finkelstein-Matouschek\\images\\20201117_pJC183_BY4741\\data\\20201117_no-plasmid_BY4741_000uM-Tet_clone1\n",
      "Couldn't find a file for every channel in:\n",
      "<built-in method keys of dict object at 0x000001C5D0973740>. Only found files for the following: ['bf', 'rfp', 'yfp']\n",
      "Couldn't find a file for every channel in:\n",
      "<built-in method keys of dict object at 0x000001C5D0973740>. Only found files for the following: ['bf', 'rfp', 'yfp']\n",
      "Couldn't find a file for every channel in:\n",
      "<built-in method keys of dict object at 0x000001C5D0973740>. Only found files for the following: ['bf', 'rfp', 'yfp']\n",
      "Couldn't find a file for every channel in:\n",
      "<built-in method keys of dict object at 0x000001C5D0973740>. Only found files for the following: ['bf', 'rfp', 'yfp']\n",
      "Couldn't find a file for every channel in:\n",
      "<built-in method keys of dict object at 0x000001C5D0973740>. Only found files for the following: ['bf', 'rfp', 'yfp']\n",
      "Couldn't find a file for every channel in:\n",
      "<built-in method keys of dict object at 0x000001C5D0973740>. Only found files for the following: ['bf', 'rfp', 'yfp']\n",
      "Couldn't find a file for every channel in:\n",
      "<built-in method keys of dict object at 0x000001C5D0973740>. Only found files for the following: ['bf', 'rfp', 'yfp']\n",
      "Couldn't find a file for every channel in:\n",
      "<built-in method keys of dict object at 0x000001C5D0973740>. Only found files for the following: ['bf', 'rfp', 'yfp']\n"
     ]
    }
   ],
   "source": [
    "files.rename_steady_state(tet_treated=True)"
   ]
  }
 ],
 "metadata": {
  "kernelspec": {
   "display_name": ".byc",
   "language": "python",
   "name": ".byc"
  },
  "language_info": {
   "codemirror_mode": {
    "name": "ipython",
    "version": 3
   },
   "file_extension": ".py",
   "mimetype": "text/x-python",
   "name": "python",
   "nbconvert_exporter": "python",
   "pygments_lexer": "ipython3",
   "version": "3.8.3"
  }
 },
 "nbformat": 4,
 "nbformat_minor": 4
}
