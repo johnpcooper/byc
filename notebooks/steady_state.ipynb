{
 "cells": [
  {
   "cell_type": "markdown",
   "metadata": {},
   "source": [
    "### Creating master index based on features found in filenames"
   ]
  },
  {
   "cell_type": "code",
   "execution_count": 3,
   "metadata": {},
   "outputs": [],
   "source": [
    "import glob, os, re\n",
    "from importlib import reload\n",
    "\n",
    "import numpy as np\n",
    "import pandas as pd\n",
    "\n",
    "import seaborn as sns\n",
    "import matplotlib.pyplot as plt\n",
    "import matplotlib\n",
    "\n",
    "import byc\n",
    "from byc import steady_state_analysis as ssa\n",
    "from byc import constants, files, utilities, plotting\n",
    "for pkg in [constants, files, utilities, plotting]:\n",
    "    reload(pkg)\n",
    "\n",
    "patterns = constants.patterns\n",
    "plotting.set_styles(plt, matplotlib)"
   ]
  },
  {
   "cell_type": "markdown",
   "metadata": {},
   "source": [
    "### Create master index using features found for each measurement dir and reformat micromanager output so the data can be analyzed using `measure_steady_state` `imagejpc` plugin"
   ]
  },
  {
   "cell_type": "code",
   "execution_count": 7,
   "metadata": {},
   "outputs": [
    {
     "name": "stdout",
     "output_type": "stream",
     "text": [
      "Found dataset directory at \n",
      "C:\\Users\\johnp\\Box\\Finkelstein-Matouschek\\images\\20220620_mKO_degrons/data\n"
     ]
    }
   ],
   "source": [
    "exptname = '20220620_mKO_degrons'\n",
    "mdf = files.make_ss_mdf(exptname)"
   ]
  },
  {
   "cell_type": "code",
   "execution_count": 5,
   "metadata": {},
   "outputs": [],
   "source": [
    "files.rename_steady_state(master_index_df=mdf)"
   ]
  }
 ],
 "metadata": {
  "kernelspec": {
   "display_name": ".byc",
   "language": "python",
   "name": ".byc"
  },
  "language_info": {
   "codemirror_mode": {
    "name": "ipython",
    "version": 3
   },
   "file_extension": ".py",
   "mimetype": "text/x-python",
   "name": "python",
   "nbconvert_exporter": "python",
   "pygments_lexer": "ipython3",
   "version": "3.8.10"
  }
 },
 "nbformat": 4,
 "nbformat_minor": 4
}
