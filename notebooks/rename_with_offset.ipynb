{
 "cells": [
  {
   "cell_type": "code",
   "execution_count": 1,
   "id": "8777e5a8",
   "metadata": {
    "tags": []
   },
   "outputs": [],
   "source": [
    "import os\n",
    "import shutil"
   ]
  },
  {
   "cell_type": "code",
   "execution_count": 2,
   "id": "a99c068a",
   "metadata": {
    "tags": []
   },
   "outputs": [],
   "source": [
    "sourcedir = r\"F:\\johncooper\\20240709_byc\\20240709_byc_3\"\n",
    "destdir = r\"F:\\johncooper\\20240709_byc\\20240709_byc_2\"\n",
    "# offset is 1 + the last timepoint index in the previous output\n",
    "# directory, typically ending in _1\n",
    "offset = 385\n",
    "n_frame_number_digits = 9\n",
    "query = 'time'\n",
    "source_pos_paths = [os.path.join(sourcedir, file) for file in os.listdir(sourcedir) if os.path.isdir(os.path.join(sourcedir, file))]\n",
    "dest_pos_paths = [os.path.join(destdir, file) for file in os.listdir(destdir) if os.path.isdir(os.path.join(destdir, file))]"
   ]
  },
  {
   "cell_type": "code",
   "execution_count": 8,
   "id": "bb3d9740",
   "metadata": {
    "tags": []
   },
   "outputs": [],
   "source": [
    "# The final line of code that actually moves the files to their renamed\n",
    "# is commented out so you can print the old and new filepaths next to each\n",
    "# other and confirm they are correct.\n",
    "%%capture file_renaming_output\n",
    "\n",
    "for pos_path in source_pos_paths[1:]:\n",
    "    filenames = [file for file in os.listdir(pos_path) if file[-4:]=='.tif']\n",
    "    filepaths = [os.path.join(pos_path, name) for name in filenames]\n",
    "    \n",
    "    for old_filepath in filepaths:\n",
    "        # find the timepoint (frame number) in the original filename \n",
    "        query_start = old_filepath.rindex(query)\n",
    "        frame_number_start = query_start + len(query)\n",
    "        frame_number_end = frame_number_start + n_frame_number_digits\n",
    "        frame_number = old_filepath[frame_number_start:frame_number_end]\n",
    "        # Add an offset to the filename so that it follows in series to the original\n",
    "        # dataset sitting in destidr\n",
    "        new_number = str(int(frame_number) + offset).zfill(n_frame_number_digits)\n",
    "        \n",
    "        new_filepath = old_filepath.replace(frame_number, new_number)\n",
    "        new_filepath = new_filepath.replace(sourcedir, destdir)\n",
    "        # If I delete positions from a second acquisition run, then the filenames will go\n",
    "        # back to 0 based indexing. So the first position of a new data set, eg. position 13\n",
    "        # in multiple positions setter, becomes position000 in the filename that gets written\n",
    "        # to the Pos13 directorys\n",
    "        xy_n_digits = 3\n",
    "        xy_dir_query = 'Pos'\n",
    "        xy_start_from_xydir = pos_path.rindex(xy_dir_query)\n",
    "        xy_from_dirname = int(pos_path[xy_start_from_xydir + len(xy_dir_query):xy_start_from_xydir + len(xy_dir_query) + xy_n_digits])\n",
    "        xy_fn_query = 'position'\n",
    "        xy_start_from_fn = old_filepath.rindex(xy_fn_query)\n",
    "        xy_from_filename = int(old_filepath[xy_start_from_fn + len(xy_fn_query):xy_start_from_fn + len(xy_fn_query) + xy_n_digits])\n",
    "\n",
    "        to_replace = xy_fn_query + str(xy_from_filename).zfill(3)\n",
    "        replace_with = xy_fn_query + str(xy_from_dirname).zfill(3)\n",
    "        new_filepath = new_filepath.replace(to_replace, replace_with)\n",
    "        # os.rename(old_filepath, new_filepath)\n",
    "        print(old_filepath)\n",
    "        print(new_filepath)\n",
    "        # shutil.move(old_filepath, new_filepath)"
   ]
  }
 ],
 "metadata": {
  "kernelspec": {
   "display_name": ".byc",
   "language": "python",
   "name": ".byc"
  },
  "language_info": {
   "codemirror_mode": {
    "name": "ipython",
    "version": 3
   },
   "file_extension": ".py",
   "mimetype": "text/x-python",
   "name": "python",
   "nbconvert_exporter": "python",
   "pygments_lexer": "ipython3",
   "version": "3.10.11"
  }
 },
 "nbformat": 4,
 "nbformat_minor": 5
}
