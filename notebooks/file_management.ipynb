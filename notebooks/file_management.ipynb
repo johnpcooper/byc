{
 "cells": [
  {
   "cell_type": "code",
   "execution_count": 1,
   "metadata": {},
   "outputs": [],
   "source": [
    "import pandas as pd\n",
    "import os\n",
    "import numpy as np"
   ]
  },
  {
   "cell_type": "code",
   "execution_count": 2,
   "metadata": {},
   "outputs": [],
   "source": [
    "from byc import file_management as fm\n",
    "from byc import alignment as a\n",
    "from byc import database as db\n",
    "\n",
    "from importlib import reload\n",
    "reloads = [fm, a, db]\n",
    "for module in reloads:\n",
    "    reload(module)"
   ]
  },
  {
   "cell_type": "markdown",
   "metadata": {},
   "source": [
    "## Reshaping byc timelapse data"
   ]
  },
  {
   "cell_type": "markdown",
   "metadata": {},
   "source": [
    "### Exporting data from NIS elements:\n",
    "\n",
    "Export timelapse data to tifs with order timepoint -> xy -> z. This will give output that \n",
    "should look something like:\n",
    "\n",
    "> 20190830_byc_001t076xy08.tif\n",
    "\n",
    "the 001 is automatically added to the filename for the experiment in NIS elements.\n",
    "\n",
    "Sort the tifs into xy directories with shell. I should really just do this in python or a shell script but I'm moving away from NIS anyway.\n",
    "\n",
    "```sh\n",
    "mkdir 20190830_byc\n",
    "mkdir 20190830_byc/tifs\n",
    "# Export NIS experiment as tifs into 20190830_byc/tifs\n",
    "cd 20190830_byc/tifs\n",
    "mkdir 20190830_byc_xy01\n",
    "mv *xy01.tif 20190830_byc_xy01\n",
    "```\n",
    "\n",
    "and so on for all xy FOVs collected. I don't usually collect multiple z stacks in my experiments, but if I do I usually just use one of them. Individual xy directories should only contain one z level\n",
    "\n",
    "You can then move all the new stacks of tifs into a single folder called `alignment_input` so you'll have tree like:\n",
    "\n",
    "```sh\n",
    "cd 20190830_byc\n",
    "tree -a\n",
    "# this .nd2 is the file\n",
    "# that NIS elements will output. If there are more \n",
    "# than one, export all of them into the same tifs\n",
    "# folder. They individual tifs will sort properly\n",
    "├── 20190830_byc_001.nd2\n",
    "├── 20190830_byc_notes.md\n",
    "└── tifs\n",
    "    ├── alignment_input\n",
    "    │   ├── 20190830_byc_xy01\n",
    "    │   │   ├── 20190830_byc_001t001xy01.tif\n",
    "    │   │   ├── 20190830_byc_001t002xy01.tif\n",
    "    │   │   └── 20190830_byc_001t003xy01.tif\n",
    "    │   └── 20190830_byc_xy02\n",
    "    │       ├── 20190830_byc_001t001xy02.tif\n",
    "    │       ├── 20190830_byc_001t002xy02.tif\n",
    "    │       └── 20190830_byc_001t003xy02.tif\n",
    "    └── alignment_output\n",
    "```\n",
    "\n",
    "Then run alignment (in byc/bin/) and follow prompts: \n",
    "\n",
    "```sh\n",
    "(byc_env) python run_alignment.py\n",
    "```\n",
    "\n",
    "Select alignment_input and alignment_output folders, then indicate channel names in order of collection (each tif in NIS elements output is a stack of channels typically in order bf, yfp, dsred being frame 0, 1, 2 of the stack). I might just change input and output folders and channel names to  argument variables for this script.\n",
    "\n",
    "This will read in tifs, one FOV at a time and register the stack according to features found in the bf stack. Once registered, each channels stack will be saved in `alignment_output` as `20190830_byc_xy00_bf_stack.tif`, `20190830_byc_xy00_yfp_stack.tif`, `20190830_byc_xy00_dsred_stack.tif` etc. for each channel and each xy FOV collected\n",
    "\n",
    "### Collecting and exporting data with micromanager:\n",
    "\n",
    "For micromanager experiments, the basic process is set collection to make a separate tif for every unique image (in order: expt_name, xy, timepoint, channel. Then, using `file_management.rename_byc()` reshape the data into the same shape as NIS elements output as indicated above. I need to take better control of `rename_byc()` handles the order of channels in the stack. I really need to get my hands on some raw micromanager output data because `rename_byc()` deletes original data as it gets renamed.\n",
    "\n",
    "For now, when naming channels once `python run_alignment` has been called and input/output dirs chosen, write names of fluorophores in alphabetical order because that should be the order in which they're read in in `file_management.reshape_timepoints()`"
   ]
  }
 ],
 "metadata": {
  "kernelspec": {
   "display_name": "byc_env",
   "language": "python",
   "name": "byc_env"
  },
  "language_info": {
   "codemirror_mode": {
    "name": "ipython",
    "version": 3
   },
   "file_extension": ".py",
   "mimetype": "text/x-python",
   "name": "python",
   "nbconvert_exporter": "python",
   "pygments_lexer": "ipython3",
   "version": "3.7.3"
  }
 },
 "nbformat": 4,
 "nbformat_minor": 2
}
