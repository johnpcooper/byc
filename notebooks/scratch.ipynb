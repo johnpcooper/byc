{
 "cells": [
  {
   "cell_type": "code",
   "execution_count": null,
   "metadata": {},
   "outputs": [],
   "source": [
    "import os\n",
    "import re\n",
    "\n",
    "import pandas as pd"
   ]
  },
  {
   "cell_type": "markdown",
   "metadata": {},
   "source": [
    "Look for expected upstream path in a file path and replace it with '' and save it as the 'rel_path' column"
   ]
  },
  {
   "cell_type": "code",
   "execution_count": null,
   "metadata": {},
   "outputs": [],
   "source": [
    "from byc import database, constants, utilities\n",
    "from importlib import reload\n",
    "for mod in [database, constants, utilities]:\n",
    "    reload(mod)\n",
    "tracedb = database.byc_database\n",
    "\n",
    "# Example trace_path from raw expt\n",
    "tracedf = tracedb.trace_database_df\n",
    "abspath = tracedf.trace_path.iloc[0]\n",
    "utilities.get_relpath(abspath)"
   ]
  },
  {
   "cell_type": "markdown",
   "metadata": {},
   "source": [
    "Function in byc.database.DataBase that finds all master index files in `constants.byc_data_dir`"
   ]
  },
  {
   "cell_type": "code",
   "execution_count": null,
   "metadata": {},
   "outputs": [],
   "source": [
    "from byc import database, constants, utilities\n",
    "from importlib import reload\n",
    "for mod in [database, constants, utilities]:\n",
    "    reload(mod)\n",
    "tracedb = database.byc_database\n",
    "\n",
    "tracedf = tracedb.trace_database_df\n",
    "abspath = tracedf.trace_path.iloc[0]\n",
    "exptdir = \"C:\\\\Users\\\\John Cooper\\\\Projects\\\\byc\\\\data\\\\20191106_byc\""
   ]
  },
  {
   "cell_type": "code",
   "execution_count": 2,
   "metadata": {
    "scrolled": true
   },
   "outputs": [
    {
     "name": "stdout",
     "output_type": "stream",
     "text": [
      "WARNING: defaulting to 10 minute collection interval\n",
      "Can be changed by adding collection_interval column in master_index\n",
      "Slicing master index df for cell 0\n",
      "cells_dfs is now 1 elements long\n",
      "Slicing master index df for cell 1\n",
      "cells_dfs is now 2 elements long\n",
      "Slicing master index df for cell 2\n",
      "cells_dfs is now 3 elements long\n",
      "Slicing master index df for cell 3\n",
      "cells_dfs is now 4 elements long\n",
      "Slicing master index df for cell 4\n",
      "cells_dfs is now 5 elements long\n",
      "Slicing master index df for cell 5\n",
      "cells_dfs is now 6 elements long\n",
      "Slicing master index df for cell 6\n",
      "cells_dfs is now 7 elements long\n",
      "Slicing master index df for cell 7\n",
      "cells_dfs is now 8 elements long\n",
      "Slicing master index df for cell 8\n",
      "cells_dfs is now 9 elements long\n",
      "Slicing master index df for cell 9\n",
      "cells_dfs is now 10 elements long\n",
      "Checking senescence data for cell 0\n",
      "sen_value is False\n",
      "first_frame is 1\n",
      "last_frame is 1\n",
      "sen_distance_from_start is -1\n",
      "Checking senescence data for cell 1\n",
      "sen_value is False\n",
      "first_frame is 1\n",
      "last_frame is 1\n",
      "sen_distance_from_start is -1\n",
      "Checking senescence data for cell 2\n",
      "sen_value is False\n",
      "first_frame is 1\n",
      "last_frame is 1\n",
      "sen_distance_from_start is -1\n",
      "Checking senescence data for cell 3\n",
      "sen_value is False\n",
      "first_frame is 1\n",
      "last_frame is 1\n",
      "sen_distance_from_start is -1\n",
      "Checking senescence data for cell 4\n",
      "sen_value is False\n",
      "first_frame is 1\n",
      "last_frame is 1\n",
      "sen_distance_from_start is -1\n",
      "Checking senescence data for cell 5\n",
      "sen_value is False\n",
      "first_frame is 1\n",
      "last_frame is 1\n",
      "sen_distance_from_start is -1\n",
      "Checking senescence data for cell 6\n",
      "sen_value is False\n",
      "first_frame is 1\n",
      "last_frame is 1\n",
      "sen_distance_from_start is -1\n",
      "Checking senescence data for cell 7\n",
      "sen_value is False\n",
      "first_frame is 1\n",
      "last_frame is 1\n",
      "sen_distance_from_start is -1\n",
      "Checking senescence data for cell 8\n",
      "sen_value is False\n",
      "first_frame is 1\n",
      "last_frame is 1\n",
      "sen_distance_from_start is -1\n",
      "Checking senescence data for cell 9\n",
      "sen_value is False\n",
      "first_frame is 1\n",
      "last_frame is 1\n",
      "sen_distance_from_start is -1\n",
      "Old cell index formatting. Looking for single digit cell index and coordinate\n",
      "Old cell index formatting. Looking for single digit cell index and coordinate\n",
      "Old cell index formatting. Looking for single digit cell index and coordinate\n",
      "Old cell index formatting. Looking for single digit cell index and coordinate\n",
      "Old cell index formatting. Looking for single digit cell index and coordinate\n",
      "Old cell index formatting. Looking for single digit cell index and coordinate\n",
      "Old cell index formatting. Looking for single digit cell index and coordinate\n",
      "Old cell index formatting. Looking for single digit cell index and coordinate\n",
      "Old cell index formatting. Looking for single digit cell index and coordinate\n",
      "Old cell index formatting. Looking for single digit cell index and coordinate\n",
      "yfp\n",
      "dsred\n"
     ]
    }
   ],
   "source": [
    "from byc import standard_analysis as sa\n",
    "from importlib import reload\n",
    "import os\n",
    "reload(sa)\n",
    "cs = sa.CellData()"
   ]
  },
  {
   "cell_type": "code",
   "execution_count": 4,
   "metadata": {},
   "outputs": [
    {
     "data": {
      "text/plain": [
       "True"
      ]
     },
     "execution_count": 4,
     "metadata": {},
     "output_type": "execute_result"
    }
   ],
   "source": [
    "os.path.exists(cs.cell_trace_paths[0])"
   ]
  }
 ],
 "metadata": {
  "kernelspec": {
   "display_name": ".byc",
   "language": "python",
   "name": ".byc"
  },
  "language_info": {
   "codemirror_mode": {
    "name": "ipython",
    "version": 3
   },
   "file_extension": ".py",
   "mimetype": "text/x-python",
   "name": "python",
   "nbconvert_exporter": "python",
   "pygments_lexer": "ipython3",
   "version": "3.8.3"
  }
 },
 "nbformat": 4,
 "nbformat_minor": 4
}
