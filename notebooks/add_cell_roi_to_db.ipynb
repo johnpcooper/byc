{
 "cells": [
  {
   "cell_type": "code",
   "execution_count": 1,
   "metadata": {},
   "outputs": [],
   "source": [
    "import os"
   ]
  },
  {
   "cell_type": "code",
   "execution_count": 2,
   "metadata": {},
   "outputs": [],
   "source": [
    "import pandas as pd\n",
    "import numpy as np"
   ]
  },
  {
   "cell_type": "code",
   "execution_count": 3,
   "metadata": {},
   "outputs": [],
   "source": [
    "from byc import *\n",
    "from importlib import reload"
   ]
  },
  {
   "cell_type": "markdown",
   "metadata": {},
   "source": [
    "### Modifications to `imagejpc.py`"
   ]
  },
  {
   "cell_type": "markdown",
   "metadata": {},
   "source": [
    "Need to make set of dummy arg variables for testing"
   ]
  },
  {
   "cell_type": "code",
   "execution_count": 129,
   "metadata": {},
   "outputs": [
    {
     "data": {
      "text/plain": [
       "'C:\\\\Users\\\\John Cooper\\\\Projects\\\\byc\\\\data\\\\example_byc_expts\\\\20200221_byc\\\\pJC069_rpn4d\\\\cells_index.csv'"
      ]
     },
     "execution_count": 129,
     "metadata": {},
     "output_type": "execute_result"
    }
   ],
   "source": [
    "os.path.join(db.byc_data_dir, os.listdir(db.byc_data_dir)[0], relexptdir, 'cells_index.csv')"
   ]
  },
  {
   "cell_type": "code",
   "execution_count": 125,
   "metadata": {},
   "outputs": [],
   "source": [
    "db = database.byc_database\n",
    "absexptdir = r\"C:\\Users\\John Cooper\\Projects\\byc\\data\\example_byc_expts\\20200221_byc\\pJC069_rpn4d\"\n",
    "cells_index = pd.read_csv(os.path.join(absexptdir, 'cells_index.csv'))"
   ]
  },
  {
   "cell_type": "code",
   "execution_count": 148,
   "metadata": {},
   "outputs": [],
   "source": [
    "\n",
    "\n",
    "keys = ['cell_index',\n",
    "        'active_imp_path',\n",
    "        'roi_set_save_path',\n",
    "        'end_event_type',\n",
    "        'roi_set_type',\n",
    "        'active_imp_dir']\n",
    "\n",
    "args = [cells_index.loc[0, 'cell_index'],\n",
    "        active_imp_path,\n",
    "        cells_index.loc[0, f'{roi_set_type}_roi_set_save_path'],\n",
    "        cells_index.loc[0, 'end_event_type'],\n",
    "        roi_set_type,\n",
    "        active_imp_dir]\n",
    "argsd = dict(zip(keys, args))"
   ]
  },
  {
   "cell_type": "code",
   "execution_count": 180,
   "metadata": {},
   "outputs": [],
   "source": [
    "roi_set_type = 'measurement'\n",
    "active_imp_path = r\"C:\\Users\\John Cooper\\Projects\\byc\\data\\example_byc_expts\\20200221_byc\\pJC069_rpn4d\\20200221_byc_xy00_cell000_bf_stack.tif\"\n",
    "active_imp_dir = active_imp_path[0:active_imp_path.rindex(\"\\\\\")]\n",
    "cell_index = 0\n",
    "roi_set_save_path = f'{roi_set_type}_roi_set_save_path'\n",
    "end_event_type = 'death'\n",
    "imp_filename = utilities.filename_from_path(active_imp_path)\n",
    "# Extract some information from the active image filename\n",
    "xy = int(imp_filename[imp_filename.rindex('xy') + 2: imp_filename.rindex('xy') + 4])\n",
    "date = imp_filename[0:8]\n",
    "\n",
    "values = [cell_index,\n",
    "          active_imp_path,\n",
    "          roi_set_save_path,\n",
    "          end_event_type,\n",
    "          xy,\n",
    "          date]\n",
    "\n",
    "keys = ['cell_index',\n",
    "        'active_imp_path',\n",
    "        '{}_roi_set_save_path'.format(roi_set_type),\n",
    "        'end_event_type',\n",
    "        'xy',\n",
    "        'date']\n",
    "args = [cell_index,\n",
    "        active_imp_path,\n",
    "        roi_set_save_path,\n",
    "        end_event_type,\n",
    "        roi_set_type,\n",
    "        active_imp_dir]\n",
    "\n",
    "cell_roi_df = pd.DataFrame(dict(zip(keys, values)), index=[0])"
   ]
  },
  {
   "cell_type": "markdown",
   "metadata": {},
   "source": [
    "Instantiate a single cell's roi record DataFrame"
   ]
  },
  {
   "cell_type": "code",
   "execution_count": 222,
   "metadata": {},
   "outputs": [
    {
     "name": "stdout",
     "output_type": "stream",
     "text": [
      "Found cell match at row 0 in master index:\n",
      "C:\\Users\\John Cooper\\Projects\\byc\\data\\example_byc_expts\\20200221_byc\\20200221_byc_master_index.csv\n",
      "Added cell info to master index and saved at\n",
      "C:\\Users\\John Cooper\\Projects\\byc\\data\\example_byc_expts\\20200221_byc\\20200221_byc_master_index.csv\n",
      "Saved cell_roi_df at C:\\Users\\John Cooper\\Projects\\byc\\data\\example_byc_expts\\20200221_byc\\pJC069_rpn4d\\20200221_byc_xy00cell000_measurement_rois_df.csv\n"
     ]
    }
   ],
   "source": [
    "cell_roi_df = addcellroi.record_cell_roi_set(*args, write=True)"
   ]
  },
  {
   "cell_type": "code",
   "execution_count": 221,
   "metadata": {},
   "outputs": [
    {
     "data": {
      "text/plain": [
       "<module 'byc.imagejpc.addcellroi' from 'C:\\\\Users\\\\John Cooper\\\\Projects\\\\byc\\\\byc\\\\imagejpc\\\\addcellroi.py'>"
      ]
     },
     "execution_count": 221,
     "metadata": {},
     "output_type": "execute_result"
    }
   ],
   "source": [
    "from byc import *\n",
    "for mod in [constants, database, utilities]:\n",
    "    reload(mod)\n",
    "    \n",
    "from byc.imagejpc import addcellroi\n",
    "reload(addcellroi)"
   ]
  }
 ],
 "metadata": {
  "kernelspec": {
   "display_name": ".byc",
   "language": "python",
   "name": ".byc"
  },
  "language_info": {
   "codemirror_mode": {
    "name": "ipython",
    "version": 3
   },
   "file_extension": ".py",
   "mimetype": "text/x-python",
   "name": "python",
   "nbconvert_exporter": "python",
   "pygments_lexer": "ipython3",
   "version": "3.8.3"
  }
 },
 "nbformat": 4,
 "nbformat_minor": 4
}
