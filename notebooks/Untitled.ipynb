{
 "cells": [
  {
   "cell_type": "code",
   "execution_count": 1,
   "metadata": {},
   "outputs": [],
   "source": [
    "import pandas as pd\n",
    "import numpy as np\n",
    "import re\n",
    "from importlib import reload\n",
    "\n",
    "from byc import files, utilities, constants, plasmids\n",
    "\n",
    "for mod in files, utilities, constants, plasmids:\n",
    "    reload(mod)\n",
    "\n",
    "df = pd.DataFrame(columns=constants.ss_master_index_cols)"
   ]
  },
  {
   "cell_type": "code",
   "execution_count": 2,
   "metadata": {},
   "outputs": [
    {
     "data": {
      "text/html": [
       "<div>\n",
       "<style scoped>\n",
       "    .dataframe tbody tr th:only-of-type {\n",
       "        vertical-align: middle;\n",
       "    }\n",
       "\n",
       "    .dataframe tbody tr th {\n",
       "        vertical-align: top;\n",
       "    }\n",
       "\n",
       "    .dataframe thead th {\n",
       "        text-align: right;\n",
       "    }\n",
       "</style>\n",
       "<table border=\"1\" class=\"dataframe\">\n",
       "  <thead>\n",
       "    <tr style=\"text-align: right;\">\n",
       "      <th></th>\n",
       "      <th>date</th>\n",
       "      <th>expt_type</th>\n",
       "      <th>fluor_channel_nameschannel_names</th>\n",
       "      <th>raw_channel_names</th>\n",
       "      <th>channel_exposures</th>\n",
       "      <th>tet_concn_uM</th>\n",
       "      <th>n_end</th>\n",
       "      <th>c_end</th>\n",
       "      <th>plasmid</th>\n",
       "      <th>clone</th>\n",
       "      <th>exptdir</th>\n",
       "      <th>genetic_background</th>\n",
       "      <th>construct</th>\n",
       "      <th>expr_type</th>\n",
       "      <th>substrate_ctl</th>\n",
       "      <th>note</th>\n",
       "    </tr>\n",
       "  </thead>\n",
       "  <tbody>\n",
       "  </tbody>\n",
       "</table>\n",
       "</div>"
      ],
      "text/plain": [
       "Empty DataFrame\n",
       "Columns: [date, expt_type, fluor_channel_nameschannel_names, raw_channel_names, channel_exposures, tet_concn_uM, n_end, c_end, plasmid, clone, exptdir, genetic_background, construct, expr_type, substrate_ctl, note]\n",
       "Index: []"
      ]
     },
     "execution_count": 2,
     "metadata": {},
     "output_type": "execute_result"
    }
   ],
   "source": [
    "df"
   ]
  }
 ],
 "metadata": {
  "kernelspec": {
   "display_name": ".byc",
   "language": "python",
   "name": ".byc"
  },
  "language_info": {
   "codemirror_mode": {
    "name": "ipython",
    "version": 3
   },
   "file_extension": ".py",
   "mimetype": "text/x-python",
   "name": "python",
   "nbconvert_exporter": "python",
   "pygments_lexer": "ipython3",
   "version": "3.8.3"
  }
 },
 "nbformat": 4,
 "nbformat_minor": 4
}
